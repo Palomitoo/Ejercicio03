{
  "nbformat": 4,
  "nbformat_minor": 0,
  "metadata": {
    "colab": {
      "provenance": []
    },
    "kernelspec": {
      "name": "python3",
      "display_name": "Python 3"
    },
    "language_info": {
      "name": "python"
    }
  },
  "cells": [
    {
      "cell_type": "code",
      "source": [
        "#ejercicio 01\n",
        "#declarando la función que verifica el día y los ingredientes\n",
        "def funcion_1(y,z):\n",
        "  if z==\"Lunes\":\n",
        "    if \"manzanas\" in y and \"peras\" in y:\n",
        "      return \"se puede desayunar jugo de manzana y pera\"\n",
        "    elif \"manzanas\" in y:\n",
        "      return \"se puede desayunar jugo de manzana\"\n",
        "    elif \"peras\" in y:\n",
        "      return \"se puede desayunar jugo de pera\"\n",
        "  if z==\"Martes\":\n",
        "    if \"leche\" in y and \"platano\" in y and \"fresa\" in y:\n",
        "      return \"se puede desayunar jugo de leche con platano y fresa\"\n",
        "    elif \"leche\" in y and \"platano\" in y:\n",
        "      return \"se puede desayunar jugo de leche con platano\"\n",
        "    elif \"leche\" in y and \"fresa\" in y:\n",
        "      return \"se puede desayunar jugo de leche con fresa\"\n",
        "  if z==\"Miercoles\":\n",
        "    if \"yogurt\" in y and \"cereales\" in y:\n",
        "      return \"se puede desayunar yogurt con cereales\"\n",
        "    elif \"yogurt\" in y:\n",
        "      return \"se puede desayunar yogurt\"\n",
        "    elif \"cereales\" in y:\n",
        "      return \"se puede desayunar cereales\"\n",
        "  elif z==\"Jueves\" or z==\"Viernes\" or z==\"Sabado\" or z==\"Domingo\":\n",
        "    if \"papaya\" in y:\n",
        "      return \"se puede desayunar jugo de papaya\"\n",
        "  return \"No deberías desayunar hoy\"\n",
        "\n",
        "y=[\"manzanas\",\"fresas\",\"leche\",\"peras\",\"papaya\",\"cereales\",\"yogurt\"]\n",
        "z=input(\"¿Qué día estamos?: \")\n",
        "print(funcion_1(y,z))"
      ],
      "metadata": {
        "collapsed": true,
        "id": "TpwwROuPeJtC",
        "colab": {
          "base_uri": "https://localhost:8080/"
        },
        "outputId": "4d083630-c50d-4b51-ca3a-48e994101863"
      },
      "execution_count": 6,
      "outputs": [
        {
          "output_type": "stream",
          "name": "stdout",
          "text": [
            "¿Qué día estamos?: Lunes\n",
            "se puede desayunar jugo de manzana y pera\n"
          ]
        }
      ]
    },
    {
      "cell_type": "code",
      "execution_count": null,
      "metadata": {
        "colab": {
          "base_uri": "https://localhost:8080/"
        },
        "id": "I2hh3qFTp1ZR",
        "outputId": "c268d80e-01cf-43d5-d0be-26095a458265",
        "collapsed": true
      },
      "outputs": [
        {
          "name": "stdout",
          "output_type": "stream",
          "text": [
            "Ingrese un número: 2\n",
            "Ingrese un número: 3\n",
            "Ingrese un número: 1\n",
            "Ingrese un número: 4\n",
            "Ingrese un número: 2\n",
            "Ingrese un número: 3\n",
            "Ingrese un número: 1\n",
            "Ingrese un número: 4\n",
            "Ingrese un número: 2\n",
            "Ingrese un número: \n",
            "Entrada inválida. Ingrese un número válido.\n",
            "Ingrese un número: 3\n",
            "Ingrese un número: 2\n",
            "Ingrese un número: 3\n",
            "Ingrese un número: 2\n",
            "Ingrese un número: 3\n",
            "Ingrese un número: 1\n",
            "Ingrese un número: 4\n",
            "Ingrese un número: 2\n",
            "Ingrese un número: 3\n",
            "Ingrese un número: 2\n",
            "Ingrese un número: 3\n",
            "\n",
            "Menú de opciones:\n",
            "1. Calcular la media\n",
            "2. Calcular la mediana\n",
            "3. Calcular la frecuencia\n",
            "4. Salir\n",
            "Seleccione una opción: 2\n",
            "La mediana es: 2.5\n",
            "\n",
            "Menú de opciones:\n",
            "1. Calcular la media\n",
            "2. Calcular la mediana\n",
            "3. Calcular la frecuencia\n",
            "4. Salir\n",
            "Seleccione una opción: 3\n",
            "La frecuencia de cada número es: {1: 3, 2: 7, 3: 7, 4: 3}\n",
            "\n",
            "Menú de opciones:\n",
            "1. Calcular la media\n",
            "2. Calcular la mediana\n",
            "3. Calcular la frecuencia\n",
            "4. Salir\n",
            "Seleccione una opción: 1\n",
            "La media es: 2.5\n",
            "\n",
            "Menú de opciones:\n",
            "1. Calcular la media\n",
            "2. Calcular la mediana\n",
            "3. Calcular la frecuencia\n",
            "4. Salir\n",
            "Seleccione una opción: 3\n",
            "La frecuencia de cada número es: {1: 3, 2: 7, 3: 7, 4: 3}\n",
            "\n",
            "Menú de opciones:\n",
            "1. Calcular la media\n",
            "2. Calcular la mediana\n",
            "3. Calcular la frecuencia\n",
            "4. Salir\n",
            "Seleccione una opción: 4\n"
          ]
        }
      ],
      "source": [
        "#ejercicio 02\n",
        "def calcular_media(lista):\n",
        "  if not lista:\n",
        "    return 0\n",
        "  return sum(lista) / len(lista)\n",
        "\n",
        "def calcular_mediana(lista):\n",
        "  lista_ordenada = sorted(lista)\n",
        "  n = len(lista_ordenada)\n",
        "  if n % 2 == 0:\n",
        "    medio1 = lista_ordenada[n // 2 - 1]\n",
        "    medio2 = lista_ordenada[n // 2]\n",
        "    mediana = (medio1 + medio2) / 2\n",
        "  else:\n",
        "    mediana = lista_ordenada[n // 2]\n",
        "  return mediana\n",
        "\n",
        "def calcular_frecuencia(lista):\n",
        "    lista_ordenada = sorted(lista)\n",
        "    frecuencia = {}\n",
        "    for i in lista_ordenada:\n",
        "      i=int(i)\n",
        "      frecuencia[i] = lista_ordenada.count(i)\n",
        "    return frecuencia\n",
        "\n",
        "\n",
        "numeros = []\n",
        "for _ in range(20):\n",
        "    while True:\n",
        "      try:\n",
        "        numero = float(input(\"Ingrese un número: \"))\n",
        "        numeros.append(numero)\n",
        "        break\n",
        "      except ValueError:\n",
        "        print(\"Entrada inválida. Ingrese un número válido.\")\n",
        "\n",
        "while True:\n",
        "    print(\"\\nMenú de opciones:\")\n",
        "    print(\"1. Calcular la media\")\n",
        "    print(\"2. Calcular la mediana\")\n",
        "    print(\"3. Calcular la frecuencia\")\n",
        "    print(\"4. Salir\")\n",
        "\n",
        "    opcion = input(\"Seleccione una opción: \")\n",
        "\n",
        "    if opcion == \"1\":\n",
        "      media = calcular_media(numeros)\n",
        "      print(\"La media es:\", media)\n",
        "    elif opcion == \"2\":\n",
        "      mediana = calcular_mediana(numeros)\n",
        "      print(\"La mediana es:\", mediana)\n",
        "    elif opcion == \"3\":\n",
        "      frecuencia = calcular_frecuencia(numeros)\n",
        "      print(\"La frecuencia de cada número es:\", frecuencia)\n",
        "    elif opcion == \"4\":\n",
        "      break\n",
        "    else:\n",
        "      print(\"Opción inválida. Intente de nuevo.\")\n",
        "\n"
      ]
    },
    {
      "cell_type": "code",
      "source": [
        "#Ejecicio 03\n",
        "def objeto_asendente(objetos):\n",
        "  objetos.sort()\n",
        "  return objetos\n",
        "\n",
        "def objeto_descendente(objetos):\n",
        "  objetos.sort(reverse=True)\n",
        "  return objetos\n",
        "\n",
        "objetos=[]\n",
        "for i in range(10):\n",
        "  obj=input(\"ingrese un objeto: \")\n",
        "  objetos.append(obj)\n",
        "\n",
        "while True:\n",
        "  print(\"\\nMenú de opciones:\")\n",
        "  print(\"1. Ordenar de forma ascendente\")\n",
        "  print(\"2. Ordenar de forma descendente\")\n",
        "  print(\"3. Salir\")\n",
        "\n",
        "  if opcion == \"1\":\n",
        "    asendente = objeto_asendente(objetos)\n",
        "    print(\"La lista ordenada de forma ascendente es:\", asendente)\n",
        "\n",
        "  elif opcion == \"2\":\n",
        "    descendente = objeto_descendente(objetos)\n",
        "    print(\"La lista ordenada de forma descendente es:\", descendente)\n",
        "\n",
        "  elif opcion == \"3\":\n",
        "    break\n",
        "\n",
        "  else:\n",
        "    raise Exception(\"Opción inválida. Intente de nuevo.\")"
      ],
      "metadata": {
        "colab": {
          "base_uri": "https://localhost:8080/",
          "height": 459
        },
        "collapsed": true,
        "id": "RS0LuOJt5Fq8",
        "outputId": "3a167e0e-c4f7-4e67-9ebd-e4fdfc012e68"
      },
      "execution_count": null,
      "outputs": [
        {
          "output_type": "stream",
          "name": "stdout",
          "text": [
            "ingrese un objeto: Colcha\n",
            "ingrese un objeto: Sillon\n",
            "ingrese un objeto: Puerta\n",
            "ingrese un objeto: Silla\n",
            "ingrese un objeto: Bañera\n",
            "ingrese un objeto: Pala\n",
            "ingrese un objeto: Cocina\n",
            "ingrese un objeto: ROpa\n",
            "ingrese un objeto: Cuchillo\n",
            "ingrese un objeto: Plato\n",
            "\n",
            "Menú de opciones:\n",
            "1. Ordenar de forma ascendente\n",
            "2. Ordenar de forma descendente\n",
            "3. Salir\n"
          ]
        },
        {
          "output_type": "error",
          "ename": "Exception",
          "evalue": "Opción inválida. Intente de nuevo.",
          "traceback": [
            "\u001b[0;31m---------------------------------------------------------------------------\u001b[0m",
            "\u001b[0;31mException\u001b[0m                                 Traceback (most recent call last)",
            "\u001b[0;32m<ipython-input-12-dc56df5d6c31>\u001b[0m in \u001b[0;36m<cell line: 15>\u001b[0;34m()\u001b[0m\n\u001b[1;32m     31\u001b[0m \u001b[0;34m\u001b[0m\u001b[0m\n\u001b[1;32m     32\u001b[0m   \u001b[0;32melse\u001b[0m\u001b[0;34m:\u001b[0m\u001b[0;34m\u001b[0m\u001b[0;34m\u001b[0m\u001b[0m\n\u001b[0;32m---> 33\u001b[0;31m     \u001b[0;32mraise\u001b[0m \u001b[0mException\u001b[0m\u001b[0;34m(\u001b[0m\u001b[0;34m\"Opción inválida. Intente de nuevo.\"\u001b[0m\u001b[0;34m)\u001b[0m\u001b[0;34m\u001b[0m\u001b[0;34m\u001b[0m\u001b[0m\n\u001b[0m",
            "\u001b[0;31mException\u001b[0m: Opción inválida. Intente de nuevo."
          ]
        }
      ]
    },
    {
      "cell_type": "code",
      "source": [
        "#Ejecicio 04\n",
        "def sistema(lista,x,y):\n",
        "  oa=\"Usted si es trabajador de la empresa MicroSecret, bienvenido \"\n",
        "  a=[\"Sara Peterson\",\"Flor de los Ríos\",\"Camila Rinaldi\",\"Mel Polo\",\"Ibeth Mamani\",\"Mary Costa\"]\n",
        "  if x in lista.keys() and y==lista[x]:\n",
        "    if x in a:\n",
        "      oa=\"Usted si es trabajadora de la empresa MicroSecret, bienvenida \"\n",
        "    return oa+x\n",
        "  else:\n",
        "    return \"Usted no es trabajador de la empresa MicroSecret\"\n",
        "\n",
        "system={\"Sara Peterson\":\"123456\",\"Carlos Moscoso\": \"20243492\",\"Gabriel Paganini\": \"jupyther93\", \"Flor de los Ríos\": \"(849N;Gk\", \"Camila Rinaldi\": \"Dododola\", \"Luis Perez\": \"AVIDIOM\", \"Mel Polo\": \"lEiTeBU\", \"Pablo Quispe\":\"rENsFeg\", \"Ibeth Mamani\": \"OrnomeN\", \"Mary Costa\":\"hIfauSI\"}\n",
        "x=input(\"Ingrese su nombre: \")\n",
        "y=input(\"Ingrese su contraseña: \")\n",
        "print(sistema(system,x,y))"
      ],
      "metadata": {
        "id": "3DbO3hY-x8_w",
        "colab": {
          "base_uri": "https://localhost:8080/"
        },
        "outputId": "e0640848-8c99-4098-c303-33945c16e0b5"
      },
      "execution_count": null,
      "outputs": [
        {
          "output_type": "stream",
          "name": "stdout",
          "text": [
            "Ingrese su nombre: Camila Rinaldi\n",
            "Ingrese su contraseña: Dododola\n",
            "Usted si es trabajadora de la empresa MicroSecret, bienvenida Camila Rinaldi\n"
          ]
        }
      ]
    },
    {
      "cell_type": "code",
      "source": [
        "#Ejercicio 05\n",
        "\n",
        "def materiales(y):\n",
        "  a=[]\n",
        "  if \"clavos\" in y and \"madera\" in y:\n",
        "    a.append(\"ventana\")\n",
        "  if \"plancha metal\" in y and \"soldadura\" in y:\n",
        "    a.append(\"puerta metalica\")\n",
        "  if \"plancha de madera\" in y and \"madera\" in y:\n",
        "    a.append(\"puerta\")\n",
        "  if not a:\n",
        "      return \"Es necesaria la compra de los materiales\"\n",
        "  return \"se puede construir: \"+\", \".join(a)\n",
        "\n",
        "y=[\"clavos\", \"madera\", \"plancha metal\",\"soldadura\"]\n",
        "print(materiales(y))\n",
        "\n",
        "\n"
      ],
      "metadata": {
        "colab": {
          "base_uri": "https://localhost:8080/"
        },
        "collapsed": true,
        "id": "SzjwWl7HpQUQ",
        "outputId": "b6504db6-a872-4a42-e216-f61001047bf4"
      },
      "execution_count": null,
      "outputs": [
        {
          "output_type": "stream",
          "name": "stdout",
          "text": [
            "se puede construir: ventana, puerta metalica\n"
          ]
        }
      ]
    },
    {
      "cell_type": "code",
      "source": [
        "#Ejercicio 06\n",
        "\n",
        "def Calificador(w,x,y,z):\n",
        "  if w==\"Hombre\":\n",
        "    if 1.65<x and 55<y<60 and 65<=z:\n",
        "      return \"SELECCIONADO\"\n",
        "    else:\n",
        "      return \"NO SELECCIONADO\"\n",
        "  elif w==\"Mujer\":\n",
        "    if 1.60<x and 55<y<60 and 65<=z:\n",
        "      return \"SELECCIONADA\"\n",
        "    else:\n",
        "      return \"NO SELECCIONADA\"\n",
        "  else:\n",
        "    return \"Valor no válido\"\n",
        "\n",
        "w=input(\"Ingrese el Sexo: \")\n",
        "x=float(input(\"Ingrese la Altura: \"))\n",
        "y=float(input(\"Ingrese el Peso: \"))\n",
        "z=float(input(\"Ingrese el Puntaje del Examen: \"))\n",
        "\n",
        "print(Calificador(w,x,y,z))\n",
        "\n"
      ],
      "metadata": {
        "collapsed": true,
        "colab": {
          "base_uri": "https://localhost:8080/"
        },
        "id": "al5hFOoFht_O",
        "outputId": "9154bb69-9ac6-4a30-82dc-129ea0b1bde3"
      },
      "execution_count": null,
      "outputs": [
        {
          "output_type": "stream",
          "name": "stdout",
          "text": [
            "Ingrese el Sexo: Hombre\n",
            "Ingrese la Altura: 1.75\n",
            "Ingrese el Peso: 59\n",
            "Ingrese el Puntaje del Examen: 70\n",
            "SELECCIONADO\n"
          ]
        }
      ]
    },
    {
      "cell_type": "code",
      "source": [
        "#Ejercicio 07\n",
        "\n",
        "def Calificador(b,c,d,e,f):\n",
        "  if b>S=18 and c.lower()==\"si\" and d>80 and e>95 and f.lower()==\"si\":\n",
        "    return \"APTO TUC\"\n",
        "  else:\n",
        "    return \"NO APTO TUC\"\n",
        "\n",
        "\n",
        "a=str(input(\"Ingrese el Sexo: \"))\n",
        "b=int(input(\"Ingrese la edad: \"))\n",
        "c=str(input(\"¿Aprobó el exámen médico?: \"))\n",
        "d=float(input(\"Ingrese el Puntaje de la prueba de conocimiento: \"))\n",
        "e=float(input(\"Ingrese el Puntaje de la prueba de manejo: \"))\n",
        "f=str(input(\"¿Pagó los 10 soles?: \"))\n",
        "\n",
        "\n",
        "print(Calificador(b,c,d,e,f))"
      ],
      "metadata": {
        "colab": {
          "base_uri": "https://localhost:8080/"
        },
        "id": "6WOQzDMY3Tgw",
        "outputId": "71e6fdb2-06c2-4a30-ffab-29fe13f681dc"
      },
      "execution_count": null,
      "outputs": [
        {
          "output_type": "stream",
          "name": "stdout",
          "text": [
            "Ingrese el Sexo: Hombre\n",
            "Ingrese la edad: 20\n",
            "¿Aprobó el exámen médico?: SI\n",
            "Ingrese el Puntaje de la prueba de conocimiento: 100\n",
            "Ingrese el Puntaje de la prueba de manejo: 100\n",
            "¿Pagó los 10 soles?: SI\n",
            "APTO TUC\n"
          ]
        }
      ]
    }
  ]
}