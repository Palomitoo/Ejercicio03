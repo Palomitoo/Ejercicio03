{
  "nbformat": 4,
  "nbformat_minor": 0,
  "metadata": {
    "colab": {
      "provenance": []
    },
    "kernelspec": {
      "name": "python3",
      "display_name": "Python 3"
    },
    "language_info": {
      "name": "python"
    }
  },
  "cells": [
    {
      "cell_type": "code",
      "execution_count": null,
      "metadata": {
        "id": "SDLNv3_J8h4n"
      },
      "outputs": [],
      "source": [
        "# Práctica 03: Python - Estructuras Condicionales\n",
        "\n",
        "# Introducción a Listas\n",
        "\n",
        "#Accediendo al primer elemento de la Cadena de texto\n",
        "cadena=\"Hola mundo\"\n",
        "print(cadena[0])\n",
        "\n",
        "#Divida una cadena en una lista\n",
        "print(cadena.split())\n",
        "\n",
        "#Crear una lista\n",
        "lista = [10, 40, 0.2, 0, 29]\n",
        "\n",
        "#Crear una lista de nombres\n",
        "lista_de_nombres = ['luis','pablo'.'gabriela','mili','oscar']\n",
        "\n",
        "# Modificar un elemento en la lista\n",
        "lista[0] = 35\n",
        "print(lista)\n",
        "\n",
        "# Adicionar elementos a una lista\n",
        "lista.append(\"Hola mundo\")\n",
        "print(\"Lista después de adicionar un elemento:\", lista)\n",
        "\n",
        "# Borrar un elemento de una lista\n",
        "del lista[2]\n",
        "print(\"Lista después de eliminar el tercer elemento:\", lista)\n",
        "\n",
        "# Ordenar una lista\n",
        "lista.sort()\n",
        "print(\"Lista ordenada:\", lista)\n",
        "\n",
        "# Longitud de una lista\n",
        "print(\"Longitud de la lista:\", len(lista))"
      ]
    },
    {
      "cell_type": "code",
      "source": [
        "# Estructuras condicionales\n",
        "\n",
        "# Condición Simple\n",
        "x = 4\n",
        "if x%2==0:\n",
        "    print(\"El número es par\")\n",
        "\n",
        "# Condición if-else\n",
        "x = 1\n",
        "if x > 0:\n",
        "    print(\"El número es positivo\")\n",
        "else:\n",
        "    print(\"El número es negativo o cero\")\n",
        "\n",
        "# Condición Anidada (if-else)\n",
        "x=10\n",
        "if x>9:\n",
        "    if x < 11:\n",
        "        print(\"El número es 10\")\n",
        "    else:\n",
        "        print(\"El número es diferente de 10\")\n",
        "else:\n",
        "    print(\"El número es diferente de 10\")\n",
        "\n",
        "# Condición Encadenada (if-elif-else)\n",
        "temperatura = 20\n",
        "if temperatura <= 7:\n",
        "    print(\"Hay me congelo\")\n",
        "elif 15 > temperatura >= 8:\n",
        "    print(\"Calentemonos\")\n",
        "elif 32>temperatura >= 16:\n",
        "    print(\"Estoy bien\")\n",
        "else:\n",
        "    print(\"Mucha calor vamosa dormir\")"
      ],
      "metadata": {
        "colab": {
          "base_uri": "https://localhost:8080/"
        },
        "id": "_NX0-EZD_tR4",
        "outputId": "1bffbf56-b943-4607-b7f5-19cff34ae16f"
      },
      "execution_count": 2,
      "outputs": [
        {
          "output_type": "stream",
          "name": "stdout",
          "text": [
            "El número es par\n",
            "El número es positivo\n",
            "El número es 10\n",
            "Estoy bien\n"
          ]
        }
      ]
    }
  ]
}